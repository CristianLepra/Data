{
 "cells": [
  {
   "cell_type": "markdown",
   "id": "827e36bb-c071-4954-831c-6f9557efbd76",
   "metadata": {},
   "source": [
    "# Ejercicios introducción a la probabilidad"
   ]
  },
  {
   "cell_type": "markdown",
   "id": "466fcd08-6911-489a-9d7f-6ca24718d77b",
   "metadata": {},
   "source": [
    "### Resolver los siguientes puntos utilizando las herramientas básicas de permutación, combinaciones, y probabilidad"
   ]
  },
  {
   "cell_type": "markdown",
   "id": "2bf04730-c0c2-4e84-9582-9943c0b842af",
   "metadata": {},
   "source": [
    "1. De forma aritmética, crear una función para realizar el cálculo factorial de un numero dado"
   ]
  },
  {
   "cell_type": "code",
   "execution_count": null,
   "id": "5914bf9d-edd2-4261-b751-cc39dd356c25",
   "metadata": {},
   "outputs": [],
   "source": [
    "def calc_factorial (x):\n",
    "    # Implementar\n",
    "    \n",
    "    \n",
    "calc_factorial (5)"
   ]
  },
  {
   "cell_type": "markdown",
   "id": "83cfb39f-1db2-49c3-a30b-d7c8136c8034",
   "metadata": {},
   "source": [
    "2. Realizar la misma función implementado la librería `math`"
   ]
  },
  {
   "cell_type": "code",
   "execution_count": null,
   "id": "7340e070-18e9-470c-b15f-ea2f62e03716",
   "metadata": {},
   "outputs": [],
   "source": [
    "from math import factorial\n",
    "def calc_factorial (x):\n",
    "    # Implementar\n",
    "\n",
    "calc_factorial (5)"
   ]
  },
  {
   "cell_type": "markdown",
   "id": "9cbe1863-a764-47c1-928d-de9b66d122bc",
   "metadata": {},
   "source": [
    "3. Tomando de a grupo de a 5 de un mazo de cartas de 52, imprimir todas las permutaciones posibles utilizando la librería math"
   ]
  },
  {
   "cell_type": "code",
   "execution_count": null,
   "id": "7d1f41d8-e020-44a1-a22a-f8754d4576ec",
   "metadata": {},
   "outputs": [],
   "source": [
    "from math import factorial\n",
    "value = \n",
    "print (value)"
   ]
  },
  {
   "cell_type": "markdown",
   "id": "3a4e4eba-4b97-4435-8e83-f287a9846cf1",
   "metadata": {},
   "source": [
    "4. Tomando de a grupo de a 5 de un mazo de cartas de 52, imprimir todas las combinaciones posibles utilizando la librería math"
   ]
  },
  {
   "cell_type": "code",
   "execution_count": null,
   "id": "87d2cd26-e489-4c42-bf25-d4128853939b",
   "metadata": {},
   "outputs": [],
   "source": [
    "value = \n",
    "print (value)"
   ]
  },
  {
   "cell_type": "markdown",
   "id": "0a514acf-86e3-4a4e-b611-d3e3734213ba",
   "metadata": {},
   "source": [
    "5. En un experimento, se lanza un dado 2 veces. Encuentra la probabilidad de que los números obtenidos en los dos lanzamientos sumen 2.\n",
    "\n",
    "    - ¿Cuál es el número de eventos? \n",
    "    - ¿Cuál es el espacio muestral? \n",
    "    - ¿Cuál es el evento X? \n",
    "    - ¿Cuántos son los posibles resultados del evento X? \n",
    "    - Calcular P(X)= \n",
    "\n"
   ]
  },
  {
   "cell_type": "code",
   "execution_count": null,
   "id": "59c89959-22f8-4913-baea-51b4d269e02e",
   "metadata": {},
   "outputs": [],
   "source": [
    "# Implementar"
   ]
  },
  {
   "cell_type": "markdown",
   "id": "c46d1b56-c6a9-4b81-9687-11b85eb80ec9",
   "metadata": {},
   "source": [
    "El 25% de ciertas piezas defectuosas muestran `falla de tipo 1` y `falla de tipo 2`, mientras el 40% de las piezas con fallas presentan `falla de tipo 1`. ¿Cuál es la probabilidad de que una pieza que presenta `falla de tipo 1`, presente `falla de tipo 2`? \n",
    "\n",
    "    - Evento A: que una pieza presente falla tipo 2. P(A|B) = ?\n",
    "    - Evento B: que una pieza presente falla tipo 1. P(B) = ?\n",
    "    - Evento A y B: que una pieza presente ambas fallas. P(A∩B) = ?\n"
   ]
  },
  {
   "cell_type": "code",
   "execution_count": null,
   "id": "7c23e53f-ccb9-4c9f-90ab-c309ffacbfce",
   "metadata": {},
   "outputs": [],
   "source": [
    "# Implementar"
   ]
  },
  {
   "cell_type": "markdown",
   "id": "38d4ddf1-a906-427d-8bcb-51436f7ff22a",
   "metadata": {},
   "source": [
    "6. En un supermercado, el número medio de cajas registradoras fuera de servicio es de 4. Suponiendo que el número de cajas registradoras fuera de servicio sigue una distribución de Poisson, calcula la probabilidad de que en un momento dado:\n",
    "    1. Que haya exactamente 6 máquinas fuera de servicio.\n",
    "    2. Que haya menos de 6 máquinas fuera de servicio."
   ]
  },
  {
   "cell_type": "code",
   "execution_count": null,
   "id": "ba0fdeb7-20a9-4348-acb3-4999d662dd51",
   "metadata": {},
   "outputs": [],
   "source": [
    "# Implementar\n",
    "# Función masa de probabilidad para una distribución de Poisson\n",
    "# A\n",
    "l=\n",
    "r=\n",
    "stats.poisson.pmf(r,l) #pmf = Función masa de probabilidad"
   ]
  },
  {
   "cell_type": "code",
   "execution_count": null,
   "id": "f5ab4cfe-fded-4136-9481-e9913b79083d",
   "metadata": {},
   "outputs": [],
   "source": [
    "# B\n",
    "l=\n",
    "r=\n",
    "p= #cdf = Función de distribución acumulativa\n",
    "print(p)"
   ]
  },
  {
   "cell_type": "markdown",
   "id": "14dfeb53-b267-4412-9201-f742afc0456f",
   "metadata": {},
   "source": [
    "7. Un equipo de IT de una empresa de software está auditando algunos portátiles. El equipo tiene que seleccionar el 5% de los mejores portátiles, con el criterio de los tiempos de arranque más rápidos. El tiempo medio de arranque es de 5 segundos, con una desviación estándar de 0,5 segundos.\n",
    "\n",
    "¿Cuál sería el tiempo de arranque necesario para la selección?"
   ]
  },
  {
   "cell_type": "code",
   "execution_count": null,
   "id": "eb6b79af-4d58-434f-bf93-abb704aa81e6",
   "metadata": {},
   "outputs": [],
   "source": [
    "# Implementar"
   ]
  },
  {
   "cell_type": "markdown",
   "id": "38475675-7000-4096-8fc6-9024966059d7",
   "metadata": {},
   "source": [
    "8. Una empresa fabrica autopartes, cuya vida útil (en horas) sigue una distribución normal con una media de 20000 (horas) y una desviación típica de 1500 (horas). Calcule lo siguiente:\n",
    "\n",
    "    - La proporción piezas que fallan luego de 18000 horas\n",
    "    - La proporción de piezas que fallan entre las 15000 y las 18000 horas\n",
    "    - ¿Después de cuántas horas fallará el 15% de laspiezas?\n"
   ]
  },
  {
   "cell_type": "code",
   "execution_count": null,
   "id": "32a6b712-3481-4dd7-8e3c-245a681bae9a",
   "metadata": {},
   "outputs": [],
   "source": [
    "# Implementar"
   ]
  },
  {
   "cell_type": "code",
   "execution_count": null,
   "id": "bcf71e07-cc03-43b9-b34e-b8e00f8b78eb",
   "metadata": {},
   "outputs": [],
   "source": [
    "# Implementar"
   ]
  },
  {
   "cell_type": "code",
   "execution_count": null,
   "id": "df6b8c35-131c-4fcf-a948-ee21befd36f8",
   "metadata": {},
   "outputs": [],
   "source": [
    "# Implementar"
   ]
  },
  {
   "cell_type": "markdown",
   "id": "5521baee-1720-42a7-a964-0b2338ad0ad7",
   "metadata": {},
   "source": [
    "9. Para la siguiente muestra obtener los siguentes datos\n",
    "    - Su desvio estándar\n",
    "    - Su medida de dispersión\n",
    "    - Su varianza"
   ]
  },
  {
   "cell_type": "code",
   "execution_count": null,
   "id": "efa338d2-7a87-4bcd-b380-267991c81184",
   "metadata": {},
   "outputs": [],
   "source": [
    "a=pd.Series([19,23,19,18,25,16,17,19,15,23,21,23,21,11,6])\n",
    "\n",
    "# Implementar"
   ]
  },
  {
   "cell_type": "markdown",
   "id": "5f2d9f74-28f6-46b5-996d-526910ec6d2a",
   "metadata": {},
   "source": [
    "10. Para la misma muestra obtener su valor de `skew` y `kurtosis` mediante la librería `scipy` y explicar los resultados"
   ]
  },
  {
   "cell_type": "code",
   "execution_count": null,
   "id": "0c905590-c3f1-4355-b207-9aec4ddc375b",
   "metadata": {},
   "outputs": [],
   "source": [
    "# Implementar"
   ]
  }
 ],
 "metadata": {
  "kernelspec": {
   "display_name": "Python 3 (ipykernel)",
   "language": "python",
   "name": "python3"
  },
  "language_info": {
   "codemirror_mode": {
    "name": "ipython",
    "version": 3
   },
   "file_extension": ".py",
   "mimetype": "text/x-python",
   "name": "python",
   "nbconvert_exporter": "python",
   "pygments_lexer": "ipython3",
   "version": "3.10.9"
  }
 },
 "nbformat": 4,
 "nbformat_minor": 5
}
